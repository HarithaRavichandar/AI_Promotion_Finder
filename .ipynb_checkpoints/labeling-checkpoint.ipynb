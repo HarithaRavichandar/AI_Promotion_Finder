{
 "cells": [
  {
   "cell_type": "code",
   "execution_count": 1,
   "id": "6cd53262-1b89-4b61-9874-c7602e902475",
   "metadata": {},
   "outputs": [
    {
     "name": "stdout",
     "output_type": "stream",
     "text": [
      "Start labeling! Enter 1 for Promotion, 0 for Non-Promotion.\n",
      "\n",
      "\n",
      "Text 1/187: \"Fulfilment by Amazon\"\n"
     ]
    },
    {
     "name": "stdin",
     "output_type": "stream",
     "text": [
      "Label (1=Promotion, 0=Non-Promotion, q=quit):  0\n"
     ]
    },
    {
     "name": "stdout",
     "output_type": "stream",
     "text": [
      "\n",
      "Text 2/187: \"IMDb\n",
      "Movies, TV\n",
      "& Celebrities\"\n"
     ]
    },
    {
     "name": "stdin",
     "output_type": "stream",
     "text": [
      "Label (1=Promotion, 0=Non-Promotion, q=quit):  1\n"
     ]
    },
    {
     "name": "stdout",
     "output_type": "stream",
     "text": [
      "\n",
      "Text 3/187: \"Conditions of Use & Sale\"\n"
     ]
    },
    {
     "name": "stdin",
     "output_type": "stream",
     "text": [
      "Label (1=Promotion, 0=Non-Promotion, q=quit):  0\n"
     ]
    },
    {
     "name": "stdout",
     "output_type": "stream",
     "text": [
      "\n",
      "Text 4/187: \"Car & Motorbike\"\n"
     ]
    },
    {
     "name": "stdin",
     "output_type": "stream",
     "text": [
      "Label (1=Promotion, 0=Non-Promotion, q=quit):  1\n"
     ]
    },
    {
     "name": "stdout",
     "output_type": "stream",
     "text": [
      "\n",
      "Text 5/187: \"Prime Video\"\n"
     ]
    },
    {
     "name": "stdin",
     "output_type": "stream",
     "text": [
      "Label (1=Promotion, 0=Non-Promotion, q=quit):  1\n"
     ]
    },
    {
     "name": "stdout",
     "output_type": "stream",
     "text": [
      "\n",
      "Text 6/187: \"Washing machines\"\n"
     ]
    },
    {
     "name": "stdin",
     "output_type": "stream",
     "text": [
      "Label (1=Promotion, 0=Non-Promotion, q=quit):  1\n"
     ]
    },
    {
     "name": "stdout",
     "output_type": "stream",
     "text": [
      "\n",
      "Text 7/187: \"See all deals\"\n"
     ]
    },
    {
     "name": "stdin",
     "output_type": "stream",
     "text": [
      "Label (1=Promotion, 0=Non-Promotion, q=quit):  0\n"
     ]
    },
    {
     "name": "stdout",
     "output_type": "stream",
     "text": [
      "\n",
      "Text 8/187: \"Music\"\n"
     ]
    },
    {
     "name": "stdin",
     "output_type": "stream",
     "text": [
      "Label (1=Promotion, 0=Non-Promotion, q=quit):  0\n"
     ]
    },
    {
     "name": "stdout",
     "output_type": "stream",
     "text": [
      "\n",
      "Text 9/187: \"Baby\"\n"
     ]
    },
    {
     "name": "stdin",
     "output_type": "stream",
     "text": [
      "Label (1=Promotion, 0=Non-Promotion, q=quit):  0\n"
     ]
    },
    {
     "name": "stdout",
     "output_type": "stream",
     "text": [
      "\n",
      "Text 10/187: \"Books\"\n"
     ]
    },
    {
     "name": "stdin",
     "output_type": "stream",
     "text": [
      "Label (1=Promotion, 0=Non-Promotion, q=quit):  1\n"
     ]
    },
    {
     "name": "stdout",
     "output_type": "stream",
     "text": [
      "\n",
      "Text 11/187: \"AbeBooks\"\n"
     ]
    },
    {
     "name": "stdin",
     "output_type": "stream",
     "text": [
      "Label (1=Promotion, 0=Non-Promotion, q=quit):  0\n"
     ]
    },
    {
     "name": "stdout",
     "output_type": "stream",
     "text": [
      "\n",
      "Text 12/187: \"IMDb\"\n"
     ]
    },
    {
     "name": "stdin",
     "output_type": "stream",
     "text": [
      "Label (1=Promotion, 0=Non-Promotion, q=quit):  0\n"
     ]
    },
    {
     "name": "stdout",
     "output_type": "stream",
     "text": [
      "\n",
      "Text 13/187: \"Deals\"\n"
     ]
    },
    {
     "name": "stdin",
     "output_type": "stream",
     "text": [
      "Label (1=Promotion, 0=Non-Promotion, q=quit):  1\n"
     ]
    },
    {
     "name": "stdout",
     "output_type": "stream",
     "text": [
      "\n",
      "Text 14/187: \"₹650.00\"\n"
     ]
    },
    {
     "name": "stdin",
     "output_type": "stream",
     "text": [
      "Label (1=Promotion, 0=Non-Promotion, q=quit):  0\n"
     ]
    },
    {
     "name": "stdout",
     "output_type": "stream",
     "text": [
      "\n",
      "Text 15/187: \"Amazon App Download\"\n"
     ]
    },
    {
     "name": "stdin",
     "output_type": "stream",
     "text": [
      "Label (1=Promotion, 0=Non-Promotion, q=quit):  1\n"
     ]
    },
    {
     "name": "stdout",
     "output_type": "stream",
     "text": [
      "\n",
      "Text 16/187: \"1,349\"\n"
     ]
    },
    {
     "name": "stdin",
     "output_type": "stream",
     "text": [
      "Label (1=Promotion, 0=Non-Promotion, q=quit):  0\n"
     ]
    },
    {
     "name": "stdout",
     "output_type": "stream",
     "text": [
      "\n",
      "Text 17/187: \"Amazon Devices\"\n"
     ]
    },
    {
     "name": "stdin",
     "output_type": "stream",
     "text": [
      "Label (1=Promotion, 0=Non-Promotion, q=quit):  0\n"
     ]
    },
    {
     "name": "stdout",
     "output_type": "stream",
     "text": [
      "\n",
      "Text 18/187: \"Software\"\n"
     ]
    },
    {
     "name": "stdin",
     "output_type": "stream",
     "text": [
      "Label (1=Promotion, 0=Non-Promotion, q=quit):  0\n"
     ]
    },
    {
     "name": "stdout",
     "output_type": "stream",
     "text": [
      "\n",
      "Text 19/187: \"Microwaves\"\n"
     ]
    },
    {
     "name": "stdin",
     "output_type": "stream",
     "text": [
      "Label (1=Promotion, 0=Non-Promotion, q=quit):  1\n"
     ]
    },
    {
     "name": "stdout",
     "output_type": "stream",
     "text": [
      "\n",
      "Text 20/187: \"Hello, sign in\n",
      "Account & Lists\"\n"
     ]
    },
    {
     "name": "stdin",
     "output_type": "stream",
     "text": [
      "Label (1=Promotion, 0=Non-Promotion, q=quit):  0\n"
     ]
    },
    {
     "name": "stdout",
     "output_type": "stream",
     "text": [
      "\n",
      "Text 21/187: \"Cart\"\n"
     ]
    },
    {
     "name": "stdin",
     "output_type": "stream",
     "text": [
      "Label (1=Promotion, 0=Non-Promotion, q=quit):  0\n"
     ]
    },
    {
     "name": "stdout",
     "output_type": "stream",
     "text": [
      "\n",
      "Text 22/187: \"Appliances\"\n"
     ]
    },
    {
     "name": "stdin",
     "output_type": "stream",
     "text": [
      "Label (1=Promotion, 0=Non-Promotion, q=quit):  1\n"
     ]
    },
    {
     "name": "stdout",
     "output_type": "stream",
     "text": [
      "\n",
      "Text 23/187: \"Lighting solutions\"\n"
     ]
    },
    {
     "name": "stdin",
     "output_type": "stream",
     "text": [
      "Label (1=Promotion, 0=Non-Promotion, q=quit):  0\n"
     ]
    },
    {
     "name": "stdout",
     "output_type": "stream",
     "text": [
      "\n",
      "Text 24/187: \"Toys & Games\"\n"
     ]
    },
    {
     "name": "stdin",
     "output_type": "stream",
     "text": [
      "Label (1=Promotion, 0=Non-Promotion, q=quit):  1\n"
     ]
    },
    {
     "name": "stdout",
     "output_type": "stream",
     "text": [
      "\n",
      "Text 25/187: \"Office Products\"\n"
     ]
    },
    {
     "name": "stdin",
     "output_type": "stream",
     "text": [
      "Label (1=Promotion, 0=Non-Promotion, q=quit):  1\n"
     ]
    },
    {
     "name": "stdout",
     "output_type": "stream",
     "text": [
      "\n",
      "Text 26/187: \"100 million songs, ad-free\n",
      "Over 15 million podcast episodes\"\n"
     ]
    },
    {
     "name": "stdin",
     "output_type": "stream",
     "text": [
      "Label (1=Promotion, 0=Non-Promotion, q=quit):  0\n"
     ]
    },
    {
     "name": "stdout",
     "output_type": "stream",
     "text": [
      "\n",
      "Text 27/187: \"Audible\n",
      "Download\n",
      "Audio Books\"\n"
     ]
    },
    {
     "name": "stdin",
     "output_type": "stream",
     "text": [
      "Label (1=Promotion, 0=Non-Promotion, q=quit):  0\n"
     ]
    },
    {
     "name": "stdout",
     "output_type": "stream",
     "text": [
      "\n",
      "Text 28/187: \"Health & Personal Care\"\n"
     ]
    },
    {
     "name": "stdin",
     "output_type": "stream",
     "text": [
      "Label (1=Promotion, 0=Non-Promotion, q=quit):  0\n"
     ]
    },
    {
     "name": "stdout",
     "output_type": "stream",
     "text": [
      "\n",
      "Text 29/187: \"Sell under Amazon Accelerator\"\n"
     ]
    },
    {
     "name": "stdin",
     "output_type": "stream",
     "text": [
      "Label (1=Promotion, 0=Non-Promotion, q=quit):  1\n"
     ]
    },
    {
     "name": "stdout",
     "output_type": "stream",
     "text": [
      "\n",
      "Text 30/187: \"Pet Supplies\"\n"
     ]
    },
    {
     "name": "stdin",
     "output_type": "stream",
     "text": [
      "Label (1=Promotion, 0=Non-Promotion, q=quit):  1\n"
     ]
    },
    {
     "name": "stdout",
     "output_type": "stream",
     "text": [
      "\n",
      "Text 31/187: \"Mobiles\"\n"
     ]
    },
    {
     "name": "stdin",
     "output_type": "stream",
     "text": [
      "Label (1=Promotion, 0=Non-Promotion, q=quit):  1\n"
     ]
    },
    {
     "name": "stdout",
     "output_type": "stream",
     "text": [
      "\n",
      "Text 32/187: \"& Orders\"\n"
     ]
    },
    {
     "name": "stdin",
     "output_type": "stream",
     "text": [
      "Label (1=Promotion, 0=Non-Promotion, q=quit):  0\n"
     ]
    },
    {
     "name": "stdout",
     "output_type": "stream",
     "text": [
      "\n",
      "Text 33/187: \"Facebook\"\n"
     ]
    },
    {
     "name": "stdin",
     "output_type": "stream",
     "text": [
      "Label (1=Promotion, 0=Non-Promotion, q=quit):  0\n"
     ]
    },
    {
     "name": "stdout",
     "output_type": "stream",
     "text": [
      "\n",
      "Text 34/187: \"PS5 Slim Fortnite digital edition\"\n"
     ]
    },
    {
     "name": "stdin",
     "output_type": "stream",
     "text": [
      "Label (1=Promotion, 0=Non-Promotion, q=quit):  1\n"
     ]
    },
    {
     "name": "stdout",
     "output_type": "stream",
     "text": [
      "\n",
      "Text 35/187: \"Grocery & Gourmet Foods\"\n"
     ]
    },
    {
     "name": "stdin",
     "output_type": "stream",
     "text": [
      "Label (1=Promotion, 0=Non-Promotion, q=quit):  1\n"
     ]
    },
    {
     "name": "stdout",
     "output_type": "stream",
     "text": [
      "\n",
      "Text 36/187: \"Appliances for your home | Up to 55% off\n",
      "Air conditioners\n",
      "Refrigerators\n",
      "Microwaves\n",
      "Washing machines\n",
      "See more\"\n"
     ]
    },
    {
     "name": "stdin",
     "output_type": "stream",
     "text": [
      "Label (1=Promotion, 0=Non-Promotion, q=quit):  1\n"
     ]
    },
    {
     "name": "stdout",
     "output_type": "stream",
     "text": [
      "\n",
      "Text 37/187: \"AbeBooks\n",
      "Books, art\n",
      "& collectibles\"\n"
     ]
    },
    {
     "name": "stdin",
     "output_type": "stream",
     "text": [
      "Label (1=Promotion, 0=Non-Promotion, q=quit):  0\n"
     ]
    },
    {
     "name": "stdout",
     "output_type": "stream",
     "text": [
      "\n",
      "Text 38/187: \"Amazon Pay on Merchants\"\n"
     ]
    },
    {
     "name": "stdin",
     "output_type": "stream",
     "text": [
      "Label (1=Promotion, 0=Non-Promotion, q=quit):  0\n"
     ]
    },
    {
     "name": "stdout",
     "output_type": "stream",
     "text": [
      "\n",
      "Text 39/187: \"MP3 Music\"\n"
     ]
    },
    {
     "name": "stdin",
     "output_type": "stream",
     "text": [
      "Label (1=Promotion, 0=Non-Promotion, q=quit):  0\n"
     ]
    },
    {
     "name": "stdout",
     "output_type": "stream",
     "text": [
      "\n",
      "Text 40/187: \"EN\n",
      "Hello, sign in\n",
      "Account & Lists\n",
      "Returns\n",
      "& Orders\n",
      "0\n",
      "Cart\"\n"
     ]
    },
    {
     "name": "stdin",
     "output_type": "stream",
     "text": [
      "Label (1=Promotion, 0=Non-Promotion, q=quit):  0\n"
     ]
    },
    {
     "name": "stdout",
     "output_type": "stream",
     "text": [
      "\n",
      "Text 41/187: \"00\"\n"
     ]
    },
    {
     "name": "stdin",
     "output_type": "stream",
     "text": [
      "Label (1=Promotion, 0=Non-Promotion, q=quit):  0\n"
     ]
    },
    {
     "name": "stdout",
     "output_type": "stream",
     "text": [
      "\n",
      "Text 42/187: \"Supply to Amazon\"\n"
     ]
    },
    {
     "name": "stdin",
     "output_type": "stream",
     "text": [
      "Label (1=Promotion, 0=Non-Promotion, q=quit):  0\n"
     ]
    },
    {
     "name": "stdout",
     "output_type": "stream",
     "text": [
      "\n",
      "Text 43/187: \"Become an Affiliate\"\n"
     ]
    },
    {
     "name": "stdin",
     "output_type": "stream",
     "text": [
      "Label (1=Promotion, 0=Non-Promotion, q=quit):  1\n"
     ]
    },
    {
     "name": "stdout",
     "output_type": "stream",
     "text": [
      "\n",
      "Text 44/187: \"Home storage\n",
      "Lighting solutions\"\n"
     ]
    },
    {
     "name": "stdin",
     "output_type": "stream",
     "text": [
      "Label (1=Promotion, 0=Non-Promotion, q=quit):  1\n"
     ]
    },
    {
     "name": "stdout",
     "output_type": "stream",
     "text": [
      "\n",
      "Text 45/187: \"Prime Now\n",
      "2-Hour Delivery\n",
      "on Everyday Items\"\n"
     ]
    },
    {
     "name": "stdin",
     "output_type": "stream",
     "text": [
      "Label (1=Promotion, 0=Non-Promotion, q=quit):  1\n"
     ]
    },
    {
     "name": "stdout",
     "output_type": "stream",
     "text": [
      "\n",
      "Text 46/187: \"Careers\"\n"
     ]
    },
    {
     "name": "stdin",
     "output_type": "stream",
     "text": [
      "Label (1=Promotion, 0=Non-Promotion, q=quit):  0\n"
     ]
    },
    {
     "name": "stdout",
     "output_type": "stream",
     "text": [
      "\n",
      "Text 47/187: \"India\"\n"
     ]
    },
    {
     "name": "stdin",
     "output_type": "stream",
     "text": [
      "Label (1=Promotion, 0=Non-Promotion, q=quit):  0\n"
     ]
    },
    {
     "name": "stdout",
     "output_type": "stream",
     "text": [
      "\n",
      "Text 48/187: \"Furniture\"\n"
     ]
    },
    {
     "name": "stdin",
     "output_type": "stream",
     "text": [
      "Label (1=Promotion, 0=Non-Promotion, q=quit):  1\n"
     ]
    },
    {
     "name": "stdout",
     "output_type": "stream",
     "text": [
      "\n",
      "Text 49/187: \"Computers & Accessories\"\n"
     ]
    },
    {
     "name": "stdin",
     "output_type": "stream",
     "text": [
      "Label (1=Promotion, 0=Non-Promotion, q=quit):  1\n"
     ]
    },
    {
     "name": "stdout",
     "output_type": "stream",
     "text": [
      "\n",
      "Text 50/187: \"Amazon Fashion\"\n"
     ]
    },
    {
     "name": "stdin",
     "output_type": "stream",
     "text": [
      "Label (1=Promotion, 0=Non-Promotion, q=quit):  1\n"
     ]
    },
    {
     "name": "stdout",
     "output_type": "stream",
     "text": [
      "\n",
      "Text 51/187: \"Let Us Help You\"\n"
     ]
    },
    {
     "name": "stdin",
     "output_type": "stream",
     "text": [
      "Label (1=Promotion, 0=Non-Promotion, q=quit):  0\n"
     ]
    },
    {
     "name": "stdout",
     "output_type": "stream",
     "text": [
      "\n",
      "Text 52/187: \"Your Account\"\n"
     ]
    },
    {
     "name": "stdin",
     "output_type": "stream",
     "text": [
      "Label (1=Promotion, 0=Non-Promotion, q=quit):  0\n"
     ]
    },
    {
     "name": "stdout",
     "output_type": "stream",
     "text": [
      "\n",
      "Text 53/187: \"Cushion covers, bedsheets & more\"\n"
     ]
    },
    {
     "name": "stdin",
     "output_type": "stream",
     "text": [
      "Label (1=Promotion, 0=Non-Promotion, q=quit):  1\n"
     ]
    },
    {
     "name": "stdout",
     "output_type": "stream",
     "text": [
      "\n",
      "Text 54/187: \"Under ₹500\"\n"
     ]
    },
    {
     "name": "stdin",
     "output_type": "stream",
     "text": [
      "Label (1=Promotion, 0=Non-Promotion, q=quit):  0\n"
     ]
    },
    {
     "name": "stdout",
     "output_type": "stream",
     "text": [
      "\n",
      "Text 55/187: \"PS5 Slim digital edition\n",
      "PS5 Slim disc edition\n",
      "PS5 Slim Fortnite digital edition\n",
      "PS5 DualSense Wireless Controller\"\n"
     ]
    },
    {
     "name": "stdin",
     "output_type": "stream",
     "text": [
      "Label (1=Promotion, 0=Non-Promotion, q=quit):  0\n"
     ]
    },
    {
     "name": "stdout",
     "output_type": "stream",
     "text": [
      "\n",
      "Text 56/187: \"Prime Now\"\n"
     ]
    },
    {
     "name": "stdin",
     "output_type": "stream",
     "text": [
      "Label (1=Promotion, 0=Non-Promotion, q=quit):  0\n"
     ]
    },
    {
     "name": "stdout",
     "output_type": "stream",
     "text": [
      "\n",
      "Text 57/187: \".in\"\n"
     ]
    },
    {
     "name": "stdin",
     "output_type": "stream",
     "text": [
      "Label (1=Promotion, 0=Non-Promotion, q=quit):  0\n"
     ]
    },
    {
     "name": "stdout",
     "output_type": "stream",
     "text": [
      "\n",
      "Text 58/187: \"Explore more\"\n"
     ]
    },
    {
     "name": "stdin",
     "output_type": "stream",
     "text": [
      "Label (1=Promotion, 0=Non-Promotion, q=quit):  0\n"
     ]
    },
    {
     "name": "stdout",
     "output_type": "stream",
     "text": [
      "\n",
      "Text 59/187: \"Amazon Web Services\"\n"
     ]
    },
    {
     "name": "stdin",
     "output_type": "stream",
     "text": [
      "Label (1=Promotion, 0=Non-Promotion, q=quit):  1\n"
     ]
    },
    {
     "name": "stdout",
     "output_type": "stream",
     "text": [
      "\n",
      "Text 60/187: \"Air conditioners\n",
      "Refrigerators\n",
      "Microwaves\n",
      "Washing machines\"\n"
     ]
    },
    {
     "name": "stdin",
     "output_type": "stream",
     "text": [
      "Label (1=Promotion, 0=Non-Promotion, q=quit):  1\n"
     ]
    },
    {
     "name": "stdout",
     "output_type": "stream",
     "text": [
      "\n",
      "Text 61/187: \"Everything For\n",
      "Your Business\"\n"
     ]
    },
    {
     "name": "stdin",
     "output_type": "stream",
     "text": [
      "Label (1=Promotion, 0=Non-Promotion, q=quit):  1\n"
     ]
    },
    {
     "name": "stdout",
     "output_type": "stream",
     "text": [
      "\n",
      "Text 62/187: \"Your Account\n",
      "Returns Centre\n",
      "Recalls and Product Safety Alerts\n",
      "100% Purchase Protection\n",
      "Amazon App Download\n",
      "Help\"\n"
     ]
    },
    {
     "name": "stdin",
     "output_type": "stream",
     "text": [
      "Label (1=Promotion, 0=Non-Promotion, q=quit):  0\n"
     ]
    },
    {
     "name": "stdout",
     "output_type": "stream",
     "text": [
      "\n",
      "Text 63/187: \"Amazon Global Selling\"\n"
     ]
    },
    {
     "name": "stdin",
     "output_type": "stream",
     "text": [
      "Label (1=Promotion, 0=Non-Promotion, q=quit):  1\n"
     ]
    },
    {
     "name": "stdout",
     "output_type": "stream",
     "text": [
      "\n",
      "Text 64/187: \"Download\n",
      "Audio Books\"\n"
     ]
    },
    {
     "name": "stdin",
     "output_type": "stream",
     "text": [
      "Label (1=Promotion, 0=Non-Promotion, q=quit):  0\n"
     ]
    },
    {
     "name": "stdout",
     "output_type": "stream",
     "text": [
      "\n",
      "Text 65/187: \"Returns Centre\"\n"
     ]
    },
    {
     "name": "stdin",
     "output_type": "stream",
     "text": [
      "Label (1=Promotion, 0=Non-Promotion, q=quit):  0\n"
     ]
    },
    {
     "name": "stdout",
     "output_type": "stream",
     "text": [
      "\n",
      "Text 66/187: \"Amazon Prime Music\"\n"
     ]
    },
    {
     "name": "stdin",
     "output_type": "stream",
     "text": [
      "Label (1=Promotion, 0=Non-Promotion, q=quit):  1\n"
     ]
    },
    {
     "name": "stdout",
     "output_type": "stream",
     "text": [
      "\n",
      "Text 67/187: \"Up to 60% off | Top picks, best offers from Small B…\"\n"
     ]
    },
    {
     "name": "stdin",
     "output_type": "stream",
     "text": [
      "Label (1=Promotion, 0=Non-Promotion, q=quit):  0\n"
     ]
    },
    {
     "name": "stdout",
     "output_type": "stream",
     "text": [
      "\n",
      "Text 68/187: \"Shopbop\n",
      "Designer\n",
      "Fashion Brands\"\n"
     ]
    },
    {
     "name": "stdin",
     "output_type": "stream",
     "text": [
      "Label (1=Promotion, 0=Non-Promotion, q=quit):  0\n"
     ]
    },
    {
     "name": "stdout",
     "output_type": "stream",
     "text": [
      "\n",
      "Text 69/187: \"Account & Lists\"\n"
     ]
    },
    {
     "name": "stdin",
     "output_type": "stream",
     "text": [
      "Label (1=Promotion, 0=Non-Promotion, q=quit):  0\n"
     ]
    },
    {
     "name": "stdout",
     "output_type": "stream",
     "text": [
      "\n",
      "Text 70/187: \"Amazon Business\"\n"
     ]
    },
    {
     "name": "stdin",
     "output_type": "stream",
     "text": [
      "Label (1=Promotion, 0=Non-Promotion, q=quit):  1\n"
     ]
    },
    {
     "name": "stdout",
     "output_type": "stream",
     "text": [
      "\n",
      "Text 71/187: \"M.R.P:\"\n"
     ]
    },
    {
     "name": "stdin",
     "output_type": "stream",
     "text": [
      "Label (1=Promotion, 0=Non-Promotion, q=quit):  0\n"
     ]
    },
    {
     "name": "stdout",
     "output_type": "stream",
     "text": [
      "\n",
      "Text 72/187: \"Home storage\"\n"
     ]
    },
    {
     "name": "stdin",
     "output_type": "stream",
     "text": [
      "Label (1=Promotion, 0=Non-Promotion, q=quit):  0\n"
     ]
    },
    {
     "name": "stdout",
     "output_type": "stream",
     "text": [
      "\n",
      "Text 73/187: \"Movies, TV\n",
      "& Celebrities\"\n"
     ]
    },
    {
     "name": "stdin",
     "output_type": "stream",
     "text": [
      "Label (1=Promotion, 0=Non-Promotion, q=quit):  1\n"
     ]
    },
    {
     "name": "stdout",
     "output_type": "stream",
     "text": [
      "\n",
      "Text 74/187: \"Cushion covers, bedsheets & more\n",
      "Figurines, vases & more\"\n"
     ]
    },
    {
     "name": "stdin",
     "output_type": "stream",
     "text": [
      "Label (1=Promotion, 0=Non-Promotion, q=quit):  1\n"
     ]
    },
    {
     "name": "stdout",
     "output_type": "stream",
     "text": [
      "\n",
      "Text 75/187: \"About Amazon\n",
      "Careers\n",
      "Press Releases\n",
      "Amazon Science\"\n"
     ]
    },
    {
     "name": "stdin",
     "output_type": "stream",
     "text": [
      "Label (1=Promotion, 0=Non-Promotion, q=quit):  0\n"
     ]
    },
    {
     "name": "stdout",
     "output_type": "stream",
     "text": [
      "\n",
      "Text 76/187: \"Let Us Help You\n",
      "Your Account\n",
      "Returns Centre\n",
      "Recalls and Product Safety Alerts\n",
      "100% Purchase Protection\n",
      "Amazon App Download\n",
      "Help\"\n"
     ]
    },
    {
     "name": "stdin",
     "output_type": "stream",
     "text": [
      "Label (1=Promotion, 0=Non-Promotion, q=quit):  0\n"
     ]
    },
    {
     "name": "stdout",
     "output_type": "stream",
     "text": [
      "\n",
      "Text 77/187: \"Amazon Web Services\n",
      "Scalable Cloud\n",
      "Computing Services\"\n"
     ]
    },
    {
     "name": "stdin",
     "output_type": "stream",
     "text": [
      "Label (1=Promotion, 0=Non-Promotion, q=quit):  1\n"
     ]
    },
    {
     "name": "stdout",
     "output_type": "stream",
     "text": [
      "\n",
      "Text 78/187: \"Books, art\n",
      "& collectibles\"\n"
     ]
    },
    {
     "name": "stdin",
     "output_type": "stream",
     "text": [
      "Label (1=Promotion, 0=Non-Promotion, q=quit):  1\n"
     ]
    },
    {
     "name": "stdout",
     "output_type": "stream",
     "text": [
      "\n",
      "Text 79/187: \"Apps & Games\"\n"
     ]
    },
    {
     "name": "stdin",
     "output_type": "stream",
     "text": [
      "Label (1=Promotion, 0=Non-Promotion, q=quit):  1\n"
     ]
    },
    {
     "name": "stdout",
     "output_type": "stream",
     "text": [
      "\n",
      "Text 80/187: \"Gift Cards\"\n"
     ]
    },
    {
     "name": "stdin",
     "output_type": "stream",
     "text": [
      "Label (1=Promotion, 0=Non-Promotion, q=quit):  1\n"
     ]
    },
    {
     "name": "stdout",
     "output_type": "stream",
     "text": [
      "\n",
      "Text 81/187: \"Industrial & Scientific\"\n"
     ]
    },
    {
     "name": "stdin",
     "output_type": "stream",
     "text": [
      "Label (1=Promotion, 0=Non-Promotion, q=quit):  0\n"
     ]
    },
    {
     "name": "stdout",
     "output_type": "stream",
     "text": [
      "\n",
      "Text 82/187: \"Twitter\"\n"
     ]
    },
    {
     "name": "stdin",
     "output_type": "stream",
     "text": [
      "Label (1=Promotion, 0=Non-Promotion, q=quit):  1\n"
     ]
    },
    {
     "name": "stdout",
     "output_type": "stream",
     "text": [
      "\n",
      "Text 83/187: \"₹297\n",
      "00M.R.P:\n",
      "₹650.00\"\n"
     ]
    },
    {
     "name": "stdin",
     "output_type": "stream",
     "text": [
      "Label (1=Promotion, 0=Non-Promotion, q=quit):  0\n"
     ]
    },
    {
     "name": "stdout",
     "output_type": "stream",
     "text": [
      "\n",
      "Text 84/187: \"Conditions of Use & Sale\n",
      "Privacy Notice\n",
      "Interest-Based Ads\n",
      "© 1996-2025, Amazon.com, Inc. or its affiliates\"\n"
     ]
    },
    {
     "name": "stdin",
     "output_type": "stream",
     "text": [
      "Label (1=Promotion, 0=Non-Promotion, q=quit):  0\n"
     ]
    },
    {
     "name": "stdout",
     "output_type": "stream",
     "text": [
      "\n",
      "Text 85/187: \"Advertise Your Products\"\n"
     ]
    },
    {
     "name": "stdin",
     "output_type": "stream",
     "text": [
      "Label (1=Promotion, 0=Non-Promotion, q=quit):  1\n"
     ]
    },
    {
     "name": "stdout",
     "output_type": "stream",
     "text": [
      "\n",
      "Text 86/187: \"Hello, sign in\"\n"
     ]
    },
    {
     "name": "stdin",
     "output_type": "stream",
     "text": [
      "Label (1=Promotion, 0=Non-Promotion, q=quit):  0\n"
     ]
    },
    {
     "name": "stdout",
     "output_type": "stream",
     "text": [
      "\n",
      "Text 87/187: \"₹1,349\n",
      "00M.R.P:\n",
      "₹2,200.00\"\n"
     ]
    },
    {
     "name": "stdin",
     "output_type": "stream",
     "text": [
      "Label (1=Promotion, 0=Non-Promotion, q=quit):  0\n"
     ]
    },
    {
     "name": "stdout",
     "output_type": "stream",
     "text": [
      "\n",
      "Text 88/187: \"Clothing & Accessories\"\n"
     ]
    },
    {
     "name": "stdin",
     "output_type": "stream",
     "text": [
      "Label (1=Promotion, 0=Non-Promotion, q=quit):  1\n"
     ]
    },
    {
     "name": "stdout",
     "output_type": "stream",
     "text": [
      "\n",
      "Text 89/187: \"Dell MS116 Wired Optical Mouse - High Precision 1000DPI Sensor, USB Connectivity…\"\n"
     ]
    },
    {
     "name": "stdin",
     "output_type": "stream",
     "text": [
      "Label (1=Promotion, 0=Non-Promotion, q=quit):  1\n"
     ]
    },
    {
     "name": "stdout",
     "output_type": "stream",
     "text": [
      "\n",
      "Text 90/187: \"All\"\n"
     ]
    },
    {
     "name": "stdin",
     "output_type": "stream",
     "text": [
      "Label (1=Promotion, 0=Non-Promotion, q=quit):  0\n"
     ]
    },
    {
     "name": "stdout",
     "output_type": "stream",
     "text": [
      "\n",
      "Text 91/187: \"₹297\n",
      "00\"\n"
     ]
    },
    {
     "name": "stdin",
     "output_type": "stream",
     "text": [
      "Label (1=Promotion, 0=Non-Promotion, q=quit):  0\n"
     ]
    },
    {
     "name": "stdout",
     "output_type": "stream",
     "text": [
      "\n",
      "Text 92/187: \"Dell MS116 Wired Optical Mouse - High Precision 1000DPI Sensor, USB Connectivity…\n",
      "₹297\n",
      "00M.R.P:\n",
      "₹650.00\"\n"
     ]
    },
    {
     "name": "stdin",
     "output_type": "stream",
     "text": [
      "Label (1=Promotion, 0=Non-Promotion, q=quit):  0\n"
     ]
    },
    {
     "name": "stdout",
     "output_type": "stream",
     "text": [
      "\n",
      "Text 93/187: \"0\"\n"
     ]
    },
    {
     "name": "stdin",
     "output_type": "stream",
     "text": [
      "Label (1=Promotion, 0=Non-Promotion, q=quit):  0\n"
     ]
    },
    {
     "name": "stdout",
     "output_type": "stream",
     "text": [
      "\n",
      "Text 94/187: \"© 1996-2025, Amazon.com, Inc. or its affiliates\"\n"
     ]
    },
    {
     "name": "stdin",
     "output_type": "stream",
     "text": [
      "Label (1=Promotion, 0=Non-Promotion, q=quit):  0\n"
     ]
    },
    {
     "name": "stdout",
     "output_type": "stream",
     "text": [
      "\n",
      "Text 95/187: \"Air conditioners\"\n"
     ]
    },
    {
     "name": "stdin",
     "output_type": "stream",
     "text": [
      "Label (1=Promotion, 0=Non-Promotion, q=quit):  0\n"
     ]
    },
    {
     "name": "stdout",
     "output_type": "stream",
     "text": [
      "\n",
      "Text 96/187: \"Press Releases\"\n"
     ]
    },
    {
     "name": "stdin",
     "output_type": "stream",
     "text": [
      "Label (1=Promotion, 0=Non-Promotion, q=quit):  0\n"
     ]
    },
    {
     "name": "stdout",
     "output_type": "stream",
     "text": [
      "\n",
      "Text 97/187: \"EN\"\n"
     ]
    },
    {
     "name": "stdin",
     "output_type": "stream",
     "text": [
      "Label (1=Promotion, 0=Non-Promotion, q=quit):  0\n"
     ]
    },
    {
     "name": "stdout",
     "output_type": "stream",
     "text": [
      "\n",
      "Text 98/187: \"100% Purchase Protection\"\n"
     ]
    },
    {
     "name": "stdin",
     "output_type": "stream",
     "text": [
      "Label (1=Promotion, 0=Non-Promotion, q=quit):  0\n"
     ]
    },
    {
     "name": "stdout",
     "output_type": "stream",
     "text": [
      "\n",
      "Text 99/187: \"Designer\n",
      "Fashion Brands\"\n"
     ]
    },
    {
     "name": "stdin",
     "output_type": "stream",
     "text": [
      "Label (1=Promotion, 0=Non-Promotion, q=quit):  1\n"
     ]
    },
    {
     "name": "stdout",
     "output_type": "stream",
     "text": [
      "\n",
      "Text 100/187: \"Scalable Cloud\n",
      "Computing Services\"\n"
     ]
    },
    {
     "name": "stdin",
     "output_type": "stream",
     "text": [
      "Label (1=Promotion, 0=Non-Promotion, q=quit):  0\n"
     ]
    },
    {
     "name": "stdout",
     "output_type": "stream",
     "text": [
      "\n",
      "Text 101/187: \"Audible Audiobooks\"\n"
     ]
    },
    {
     "name": "stdin",
     "output_type": "stream",
     "text": [
      "Label (1=Promotion, 0=Non-Promotion, q=quit):  1\n"
     ]
    },
    {
     "name": "stdout",
     "output_type": "stream",
     "text": [
      "\n",
      "Text 102/187: \"Amazon Science\"\n"
     ]
    },
    {
     "name": "stdin",
     "output_type": "stream",
     "text": [
      "Label (1=Promotion, 0=Non-Promotion, q=quit):  1\n"
     ]
    },
    {
     "name": "stdout",
     "output_type": "stream",
     "text": [
      "\n",
      "Text 103/187: \"Shopbop\"\n"
     ]
    },
    {
     "name": "stdin",
     "output_type": "stream",
     "text": [
      "Label (1=Promotion, 0=Non-Promotion, q=quit):  q\n"
     ]
    },
    {
     "name": "stdout",
     "output_type": "stream",
     "text": [
      "\n",
      " Labeled data saved to data/labeled/amazon_labeled_text.csv\n"
     ]
    }
   ],
   "source": [
    "import pandas as pd\n",
    "\n",
    "#Load Scraped Text\n",
    "df = pd.read_csv(\"data/raw/amazon_homepage_text.csv\")\n",
    "df = df.dropna()\n",
    "df = df[df['text'].str.strip() != \"\"]\n",
    "df = df.reset_index(drop=True)\n",
    "\n",
    "#Create Label Column\n",
    "df['label'] = None\n",
    "\n",
    "# Interactive Labeling Loop (Label 1 = Promotion, 0 = Non-Promotion)\n",
    "print(\"Start labeling! Enter 1 for Promotion, 0 for Non-Promotion.\\n\")\n",
    "\n",
    "for i in range(len(df)):\n",
    "    if pd.isna(df.loc[i, 'label']):\n",
    "        print(f\"\\nText {i+1}/{len(df)}: \\\"{df.loc[i, 'text']}\\\"\")\n",
    "        label = input(\"Label (1=Promotion, 0=Non-Promotion, q=quit): \")\n",
    "\n",
    "        if label.lower() == 'q':\n",
    "            break\n",
    "        elif label in ['0', '1']:\n",
    "            df.loc[i, 'label'] = int(label)\n",
    "        else:\n",
    "            print(\"⚠️ Invalid input. Please enter 1, 0, or q.\")\n",
    "\n",
    "\n",
    "df.dropna(subset=['label'], inplace=True)\n",
    "df.to_csv(\"data/labeled/amazon_labeled_text.csv\", index=False)\n",
    "print(\"\\n Labeled data saved to data/labeled/amazon_labeled_text.csv\")\n"
   ]
  },
  {
   "cell_type": "code",
   "execution_count": null,
   "id": "bf8ff956-c8d8-4451-9c9b-b5d596b8d217",
   "metadata": {},
   "outputs": [],
   "source": []
  }
 ],
 "metadata": {
  "kernelspec": {
   "display_name": "Python 3 (ipykernel)",
   "language": "python",
   "name": "python3"
  },
  "language_info": {
   "codemirror_mode": {
    "name": "ipython",
    "version": 3
   },
   "file_extension": ".py",
   "mimetype": "text/x-python",
   "name": "python",
   "nbconvert_exporter": "python",
   "pygments_lexer": "ipython3",
   "version": "3.11.7"
  }
 },
 "nbformat": 4,
 "nbformat_minor": 5
}
