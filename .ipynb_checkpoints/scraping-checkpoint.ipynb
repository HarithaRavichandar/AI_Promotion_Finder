{
 "cells": [
  {
   "cell_type": "code",
   "execution_count": 8,
   "id": "8372b69a-10e5-4c22-b71c-7b53532e578e",
   "metadata": {},
   "outputs": [],
   "source": [
    "from selenium import webdriver\n",
    "from selenium.webdriver.chrome.service import Service\n",
    "from selenium.webdriver.common.by import By\n",
    "import time\n",
    "import pandas as pd"
   ]
  },
  {
   "cell_type": "code",
   "execution_count": 9,
   "id": "723ef46d-20d3-491b-b7dd-454cfcb3849b",
   "metadata": {},
   "outputs": [],
   "source": [
    "service = Service(executable_path=\"chromedriver.exe\")  # Ensure path is correct\n",
    "driver = webdriver.Chrome(service=service)\n",
    "url = \"https://www.amazon.in/\"\n",
    "driver.get(url)\n",
    "time.sleep(5)"
   ]
  },
  {
   "cell_type": "code",
   "execution_count": 10,
   "id": "942920b5-2bb9-42b7-a512-884bb02af9d0",
   "metadata": {},
   "outputs": [],
   "source": [
    "elements = driver.find_elements(By.XPATH, \"//*\")\n",
    "data = []\n",
    "for el in elements:\n",
    "    try:\n",
    "        text = el.text.strip()\n",
    "        if text and len(text.split()) <= 20:  # Only short promo-like text\n",
    "            data.append(text)\n",
    "    except:\n",
    "        continue"
   ]
  },
  {
   "cell_type": "code",
   "execution_count": 11,
   "id": "51c31b74-03d8-49a2-97aa-b9f5a4ec20c9",
   "metadata": {},
   "outputs": [],
   "source": [
    "df = pd.DataFrame({\"text\": list(set(data))})\n",
    "df.to_csv(\"data/raw/amazon_homepage_text.csv\", index=False)"
   ]
  },
  {
   "cell_type": "code",
   "execution_count": 12,
   "id": "af93eaaf-1f34-46df-ab0e-f2f64688796f",
   "metadata": {},
   "outputs": [],
   "source": [
    "driver.quit()"
   ]
  },
  {
   "cell_type": "code",
   "execution_count": null,
   "id": "94d97082-08c5-40b1-8dda-e8b516602884",
   "metadata": {},
   "outputs": [],
   "source": []
  }
 ],
 "metadata": {
  "kernelspec": {
   "display_name": "Python 3 (ipykernel)",
   "language": "python",
   "name": "python3"
  },
  "language_info": {
   "codemirror_mode": {
    "name": "ipython",
    "version": 3
   },
   "file_extension": ".py",
   "mimetype": "text/x-python",
   "name": "python",
   "nbconvert_exporter": "python",
   "pygments_lexer": "ipython3",
   "version": "3.11.7"
  }
 },
 "nbformat": 4,
 "nbformat_minor": 5
}
